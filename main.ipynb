{
 "cells": [
  {
   "cell_type": "markdown",
   "id": "d6e88db1",
   "metadata": {},
   "source": [
    "## Jupyter Notebook"
   ]
  },
  {
   "cell_type": "code",
   "execution_count": 1,
   "id": "df26aa98",
   "metadata": {},
   "outputs": [
    {
     "name": "stdout",
     "output_type": "stream",
     "text": [
      "Repo Name: articles\n",
      "Repo URL: https://api.github.com/repos/awsugmm/articles\n",
      "\n",
      "Repo Name: articlephotos\n",
      "Repo URL: https://api.github.com/repos/awsugmm/articlephotos\n",
      "\n",
      "Repo Name: logo\n",
      "Repo URL: https://api.github.com/repos/awsugmm/logo\n",
      "\n",
      "Repo Name: awsprice\n",
      "Repo URL: https://api.github.com/repos/awsugmm/awsprice\n",
      "\n",
      "Repo Name: chatesat-cds-episode-3-ecommerce-frontend\n",
      "Repo URL: https://api.github.com/repos/awsugmm/chatesat-cds-episode-3-ecommerce-frontend\n",
      "\n",
      "Repo Name: chatesat-cds-episode-3-ecommerce-server\n",
      "Repo URL: https://api.github.com/repos/awsugmm/chatesat-cds-episode-3-ecommerce-server\n",
      "\n",
      "Repo Name: chatesat-cds-episode-3-S3-static\n",
      "Repo URL: https://api.github.com/repos/awsugmm/chatesat-cds-episode-3-S3-static\n",
      "\n",
      "Repo Name: event-resources\n",
      "Repo URL: https://api.github.com/repos/awsugmm/event-resources\n",
      "\n",
      "Repo Name: download-me\n",
      "Repo URL: https://api.github.com/repos/awsugmm/download-me\n",
      "\n",
      "Repo Name: aws-mm-write-with-me\n",
      "Repo URL: https://api.github.com/repos/awsugmm/aws-mm-write-with-me\n",
      "\n",
      "Repo Name: decoupling_demo\n",
      "Repo URL: https://api.github.com/repos/awsugmm/decoupling_demo\n",
      "\n",
      "Repo Name: awsugmm-articles\n",
      "Repo URL: https://api.github.com/repos/awsugmm/awsugmm-articles\n",
      "\n",
      "Repo Name: infrastructure-as-code-with-aws\n",
      "Repo URL: https://api.github.com/repos/awsugmm/infrastructure-as-code-with-aws\n",
      "\n",
      "Repo Name: dont-click-just-code\n",
      "Repo URL: https://api.github.com/repos/awsugmm/dont-click-just-code\n",
      "\n",
      "Repo Name: awsugmm.github.io\n",
      "Repo URL: https://api.github.com/repos/awsugmm/awsugmm.github.io\n",
      "\n",
      "Repo Name: community-day\n",
      "Repo URL: https://api.github.com/repos/awsugmm/community-day\n",
      "\n",
      "Repo Name: aws-infra-pipeline-demo\n",
      "Repo URL: https://api.github.com/repos/awsugmm/aws-infra-pipeline-demo\n",
      "\n"
     ]
    }
   ],
   "source": [
    "import requests \n",
    "\n",
    "response = requests.get(\"https://api.github.com/orgs/awsugmm/repos\")\n",
    "#print(response.json()[0])\n",
    "my_repos = response.json()\n",
    "\n",
    "for repo in my_repos:\n",
    "    print(\"Repo Name: {}\\nRepo URL: {}\\n\".format(repo[\"name\"],repo[\"url\"]))"
   ]
  },
  {
   "cell_type": "code",
   "execution_count": null,
   "id": "4fa51592",
   "metadata": {},
   "outputs": [],
   "source": []
  }
 ],
 "metadata": {
  "kernelspec": {
   "display_name": "Python 3",
   "language": "python",
   "name": "python3"
  },
  "language_info": {
   "codemirror_mode": {
    "name": "ipython",
    "version": 3
   },
   "file_extension": ".py",
   "mimetype": "text/x-python",
   "name": "python",
   "nbconvert_exporter": "python",
   "pygments_lexer": "ipython3",
   "version": "3.9.0"
  }
 },
 "nbformat": 4,
 "nbformat_minor": 5
}
